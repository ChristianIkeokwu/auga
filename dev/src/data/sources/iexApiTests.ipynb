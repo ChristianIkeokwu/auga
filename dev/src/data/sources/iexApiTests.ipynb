{
 "cells": [
  {
   "cell_type": "code",
   "execution_count": 32,
   "metadata": {},
   "outputs": [
    {
     "ename": "SyntaxError",
     "evalue": "trailing comma not allowed without surrounding parentheses (<ipython-input-32-716574ad4dce>, line 6)",
     "output_type": "error",
     "traceback": [
      "\u001b[0;36m  File \u001b[0;32m\"<ipython-input-32-716574ad4dce>\"\u001b[0;36m, line \u001b[0;32m6\u001b[0m\n\u001b[0;31m    from iexfinance import get_available_symbols,\u001b[0m\n\u001b[0m                          ^\u001b[0m\n\u001b[0;31mSyntaxError\u001b[0m\u001b[0;31m:\u001b[0m trailing comma not allowed without surrounding parentheses\n"
     ]
    }
   ],
   "source": [
    "import pandas as pd\n",
    "import pandas_datareader.data as web\n",
    "import pandas_datareader\n",
    "import datetime\n",
    "\n",
    "from iexfinance import get_available_symbols,\n",
    "import iexfinance"
   ]
  },
  {
   "cell_type": "markdown",
   "metadata": {},
   "source": [
    "## Here is where we test querying the IEX api"
   ]
  },
  {
   "cell_type": "code",
   "execution_count": 33,
   "metadata": {},
   "outputs": [],
   "source": [
    "# For testing, we're grabbing 1` years worth of stock data\n",
    "\n",
    "start = datetime.datetime(2016,1,1)\n",
    "\n",
    "end = datetime.datetime(2019, 1, 1)"
   ]
  },
  {
   "cell_type": "code",
   "execution_count": 34,
   "metadata": {},
   "outputs": [],
   "source": [
    "f = web.DataReader('MSFT', 'iex', start, end)\n"
   ]
  },
  {
   "cell_type": "code",
   "execution_count": 35,
   "metadata": {
    "scrolled": true
   },
   "outputs": [],
   "source": [
    "DF =get_available_symbols()"
   ]
  },
  {
   "cell_type": "code",
   "execution_count": 41,
   "metadata": {},
   "outputs": [
    {
     "data": {
      "text/html": [
       "<div>\n",
       "<style scoped>\n",
       "    .dataframe tbody tr th:only-of-type {\n",
       "        vertical-align: middle;\n",
       "    }\n",
       "\n",
       "    .dataframe tbody tr th {\n",
       "        vertical-align: top;\n",
       "    }\n",
       "\n",
       "    .dataframe thead th {\n",
       "        text-align: right;\n",
       "    }\n",
       "</style>\n",
       "<table border=\"1\" class=\"dataframe\">\n",
       "  <thead>\n",
       "    <tr style=\"text-align: right;\">\n",
       "      <th></th>\n",
       "      <th>avgTotalVolume</th>\n",
       "      <th>calculationPrice</th>\n",
       "      <th>change</th>\n",
       "      <th>changePercent</th>\n",
       "      <th>close</th>\n",
       "      <th>closeTime</th>\n",
       "      <th>companyName</th>\n",
       "      <th>delayedPrice</th>\n",
       "      <th>delayedPriceTime</th>\n",
       "      <th>extendedChange</th>\n",
       "      <th>...</th>\n",
       "      <th>open</th>\n",
       "      <th>openTime</th>\n",
       "      <th>peRatio</th>\n",
       "      <th>previousClose</th>\n",
       "      <th>primaryExchange</th>\n",
       "      <th>sector</th>\n",
       "      <th>symbol</th>\n",
       "      <th>week52High</th>\n",
       "      <th>week52Low</th>\n",
       "      <th>ytdChange</th>\n",
       "    </tr>\n",
       "  </thead>\n",
       "  <tbody>\n",
       "    <tr>\n",
       "      <th>AAPL</th>\n",
       "      <td>33192603</td>\n",
       "      <td>close</td>\n",
       "      <td>-0.38</td>\n",
       "      <td>-0.00222</td>\n",
       "      <td>170.42</td>\n",
       "      <td>1550264400567</td>\n",
       "      <td>Apple Inc.</td>\n",
       "      <td>170.42</td>\n",
       "      <td>1550264400567</td>\n",
       "      <td>-0.04</td>\n",
       "      <td>...</td>\n",
       "      <td>171.47</td>\n",
       "      <td>1550241000795</td>\n",
       "      <td>14.36</td>\n",
       "      <td>170.8</td>\n",
       "      <td>Nasdaq Global Select</td>\n",
       "      <td>Technology</td>\n",
       "      <td>AAPL</td>\n",
       "      <td>233.47</td>\n",
       "      <td>142</td>\n",
       "      <td>0.081563</td>\n",
       "    </tr>\n",
       "    <tr>\n",
       "      <th>AAT</th>\n",
       "      <td>193187</td>\n",
       "      <td>close</td>\n",
       "      <td>0.32</td>\n",
       "      <td>0.00732</td>\n",
       "      <td>44.05</td>\n",
       "      <td>1550264523067</td>\n",
       "      <td>American Assets Trust Inc.</td>\n",
       "      <td>44.05</td>\n",
       "      <td>1550264523067</td>\n",
       "      <td>0</td>\n",
       "      <td>...</td>\n",
       "      <td>43.89</td>\n",
       "      <td>1550241001904</td>\n",
       "      <td>21.08</td>\n",
       "      <td>43.73</td>\n",
       "      <td>New York Stock Exchange</td>\n",
       "      <td>Real Estate</td>\n",
       "      <td>AAT</td>\n",
       "      <td>44.25</td>\n",
       "      <td>30.62</td>\n",
       "      <td>0.128185</td>\n",
       "    </tr>\n",
       "  </tbody>\n",
       "</table>\n",
       "<p>2 rows × 40 columns</p>\n",
       "</div>"
      ],
      "text/plain": [
       "     avgTotalVolume calculationPrice change changePercent   close  \\\n",
       "AAPL       33192603            close  -0.38      -0.00222  170.42   \n",
       "AAT          193187            close   0.32       0.00732   44.05   \n",
       "\n",
       "          closeTime                 companyName delayedPrice delayedPriceTime  \\\n",
       "AAPL  1550264400567                  Apple Inc.       170.42    1550264400567   \n",
       "AAT   1550264523067  American Assets Trust Inc.        44.05    1550264523067   \n",
       "\n",
       "     extendedChange    ...       open       openTime peRatio previousClose  \\\n",
       "AAPL          -0.04    ...     171.47  1550241000795   14.36         170.8   \n",
       "AAT               0    ...      43.89  1550241001904   21.08         43.73   \n",
       "\n",
       "              primaryExchange       sector symbol week52High week52Low  \\\n",
       "AAPL     Nasdaq Global Select   Technology   AAPL     233.47       142   \n",
       "AAT   New York Stock Exchange  Real Estate    AAT      44.25     30.62   \n",
       "\n",
       "     ytdChange  \n",
       "AAPL  0.081563  \n",
       "AAT   0.128185  \n",
       "\n",
       "[2 rows x 40 columns]"
      ]
     },
     "execution_count": 41,
     "metadata": {},
     "output_type": "execute_result"
    }
   ],
   "source": [
    "stocko = pd.DataFrame(DF)\n",
    "stockSymbols = stocko['symbol'].unique()\n",
    "Stock([stockSymbols[13],stockSymbols[14]], output_format='pandas').get_quote().transpose()\n",
    "Stock(stockSymbols[13],output_format=\"pandas\").get_peers()"
   ]
  },
  {
   "cell_type": "code",
   "execution_count": 27,
   "metadata": {},
   "outputs": [
    {
     "data": {
      "text/plain": [
       "<bound method Series.unique of 0              A\n",
       "1             AA\n",
       "2           AAAU\n",
       "3           AABA\n",
       "4            AAC\n",
       "5           AADR\n",
       "6            AAL\n",
       "7           AAMC\n",
       "8           AAME\n",
       "9            AAN\n",
       "10          AAOI\n",
       "11          AAON\n",
       "12           AAP\n",
       "13          AAPL\n",
       "14           AAT\n",
       "15           AAU\n",
       "16          AAWW\n",
       "17          AAXJ\n",
       "18          AAXN\n",
       "19            AB\n",
       "20           ABB\n",
       "21          ABBV\n",
       "22           ABC\n",
       "23          ABCB\n",
       "24          ABDC\n",
       "25          ABEO\n",
       "26         ABEOW\n",
       "27          ABEV\n",
       "28           ABG\n",
       "29          ABIL\n",
       "          ...   \n",
       "8703         ZTS\n",
       "8704        ZUMZ\n",
       "8705         ZUO\n",
       "8706         ZVV\n",
       "8707        ZVVV\n",
       "8708       ZVZZT\n",
       "8709       ZWZZT\n",
       "8710       ZXIET\n",
       "8711       ZXZZT\n",
       "8712        ZYME\n",
       "8713        ZYNE\n",
       "8714        ZYXI\n",
       "8715     BTCUSDT\n",
       "8716     EOSUSDT\n",
       "8717     ETHUSDT\n",
       "8718     BNBUSDT\n",
       "8719     ONTUSDT\n",
       "8720     BCCUSDT\n",
       "8721     ADAUSDT\n",
       "8722     XRPUSDT\n",
       "8723    TUSDUSDT\n",
       "8724     TRXUSDT\n",
       "8725     LTCUSDT\n",
       "8726     ETCUSDT\n",
       "8727    IOTAUSDT\n",
       "8728     ICXUSDT\n",
       "8729     NEOUSDT\n",
       "8730     VENUSDT\n",
       "8731     XLMUSDT\n",
       "8732    QTUMUSDT\n",
       "Name: symbol, Length: 8733, dtype: object>"
      ]
     },
     "execution_count": 27,
     "metadata": {},
     "output_type": "execute_result"
    }
   ],
   "source": []
  },
  {
   "cell_type": "code",
   "execution_count": null,
   "metadata": {},
   "outputs": [],
   "source": []
  }
 ],
 "metadata": {
  "kernelspec": {
   "display_name": "Python 3",
   "language": "python",
   "name": "python3"
  },
  "language_info": {
   "codemirror_mode": {
    "name": "ipython",
    "version": 3
   },
   "file_extension": ".py",
   "mimetype": "text/x-python",
   "name": "python",
   "nbconvert_exporter": "python",
   "pygments_lexer": "ipython3",
   "version": "3.5.2"
  }
 },
 "nbformat": 4,
 "nbformat_minor": 2
}
